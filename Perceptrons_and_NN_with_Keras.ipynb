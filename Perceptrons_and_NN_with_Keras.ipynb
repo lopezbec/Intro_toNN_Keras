{
  "nbformat": 4,
  "nbformat_minor": 0,
  "metadata": {
    "kernelspec": {
      "name": "python3",
      "display_name": "Python 3"
    },
    "language_info": {
      "codemirror_mode": {
        "name": "ipython",
        "version": 3
      },
      "file_extension": ".py",
      "mimetype": "text/x-python",
      "name": "python",
      "nbconvert_exporter": "python",
      "pygments_lexer": "ipython3",
      "version": "3.7.3"
    },
    "nav_menu": {
      "height": "264px",
      "width": "369px"
    },
    "toc": {
      "navigate_menu": true,
      "number_sections": true,
      "sideBar": true,
      "threshold": 6,
      "toc_cell": false,
      "toc_section_display": "block",
      "toc_window_display": false
    },
    "colab": {
      "name": "Perceptrons_and_NN_with_Keras.ipynb",
      "provenance": [],
      "collapsed_sections": [
        "Jy5f7p4SGizB"
      ]
    }
  },
  "cells": [
    {
      "cell_type": "markdown",
      "metadata": {
        "id": "IF6Lm26UO4TQ"
      },
      "source": [
        "\n",
        "<center><b>© Content is made available under the CC-BY-NC-ND 4.0 license. Christian Lopez, lopezbec@lafayette.edu<b><center>"
      ]
    },
    {
      "cell_type": "markdown",
      "metadata": {
        "id": "_HuUEdPgNCSo"
      },
      "source": [
        "#Implementing NN with Keras and TensorFlow \n",
        "\n",
        "This Notebook will give you an introduction on how to train a  Neural Network using Keras and TensorFlow.  \n",
        "\n",
        "In this Notebook you will learn:\n",
        "\n",
        "- How to implement a Perceptron\n",
        "- How to implement multiple activation function and algorithmically get their derivatives\n",
        "- How to build, train, and test a NN for image classification \n",
        "\n",
        "Most of the notebooks we are going to be using are inspired from existing notebooks that are available online and are made free for educational purposes. Nonetheless, these notebooks should not be share without prior permission of the instructor. When working in an assignment always remember the [Student Code of Conduct](https://conduct.lafayette.edu/student-handbook/student-code-of-conduct/).\n",
        "\n",
        "*The following sections were inspired and uses some of the code and text from the book:\n",
        "\n",
        "Géron, A. (2019) 2nd Ed. Hands-on machine learning with Scikit-Learn and TensorFlow: concepts, tools, and techniques to build intelligent systems. O'Reilly Media, Inc.( ISBN-10: 1491962291) [Chapter 10](https://github.com/ageron/handson-ml2/blob/master/10_neural_nets_with_keras.ipynb)\n"
      ]
    },
    {
      "cell_type": "markdown",
      "metadata": {
        "id": "CoL940bWO4Ta"
      },
      "source": [
        "# Setup"
      ]
    },
    {
      "cell_type": "code",
      "metadata": {
        "id": "gVSnGN77O4Tg"
      },
      "source": [
        "# Python ≥3.5 is required\n",
        "import sys\n",
        "assert sys.version_info >= (3, 5)\n",
        "\n",
        "# Scikit-Learn ≥0.20 is required\n",
        "import sklearn\n",
        "assert sklearn.__version__ >= \"0.20\"\n",
        "\n",
        "try:\n",
        "    # %tensorflow_version only exists in Colab.\n",
        "    %tensorflow_version 2.x\n",
        "except Exception:\n",
        "    pass\n",
        "\n",
        "# TensorFlow ≥2.0 is required\n",
        "import tensorflow as tf\n",
        "assert tf.__version__ >= \"2.0\"\n",
        "\n",
        "# Common imports\n",
        "import numpy as np\n",
        "import os\n",
        "\n",
        "# to make this notebook's output stable across runs\n",
        "np.random.seed(42)\n",
        "\n",
        "import time\n",
        "\n",
        "# To plot pretty figures\n",
        "%matplotlib inline\n",
        "import matplotlib as mpl\n",
        "import matplotlib.pyplot as plt\n",
        "mpl.rc('axes', labelsize=14)\n",
        "mpl.rc('xtick', labelsize=12)\n",
        "mpl.rc('ytick', labelsize=12)\n",
        "\n",
        "\n",
        "# Ignore useless warnings (see SciPy issue #5998)\n",
        "import warnings\n",
        "warnings.filterwarnings(action=\"ignore\", message=\"^internal gelsd\")\n",
        "import logging\n",
        "\n",
        "os.environ['TF_CPP_MIN_LOG_LEVEL'] = '3'  # FATAL\n",
        "logging.getLogger('tensorflow').setLevel(logging.FATAL)"
      ],
      "execution_count": null,
      "outputs": []
    },
    {
      "cell_type": "markdown",
      "metadata": {
        "id": "vT2scaYRO4Tr"
      },
      "source": [
        "#1- Perceptrons"
      ]
    },
    {
      "cell_type": "markdown",
      "metadata": {
        "id": "uh-KD05gQVFn"
      },
      "source": [
        "The Perceptron is one of the simplest ANN architectures. It is based on a slightly different artificial neuron called a threshold logic unit (TLU), or sometimes a linear threshold unit (LTU). The most common step function used in Perceptrons is the [Heaviside step function](https://en.wikipedia.org/wiki/Heaviside_step_function), sometimes the [sign function](https://en.wikipedia.org/wiki/Sign_function) is used instead."
      ]
    },
    {
      "cell_type": "markdown",
      "metadata": {
        "id": "7kAtJIPTSqQC"
      },
      "source": [
        "We can use the [Perceptron method](https://scikit-learn.org/stable/modules/generated/sklearn.linear_model.Perceptron.html) from sklearn to implement a percentron for classification."
      ]
    },
    {
      "cell_type": "markdown",
      "metadata": {
        "id": "c6MlfNSJUgwI"
      },
      "source": [
        "#### **Exercise**: "
      ]
    },
    {
      "cell_type": "markdown",
      "metadata": {
        "id": "HTEGJzYWUmfl"
      },
      "source": [
        "Read the documentation of the [Perceptron method](https://scikit-learn.org/stable/modules/generated/sklearn.linear_model.Perceptron.html) from sklearn and train a clasification model (fit the parameter to max X to y).\n",
        "\n",
        "**Hint**: Look at the \"fit\" method and pay attention to the dimensions of the arrays"
      ]
    },
    {
      "cell_type": "code",
      "metadata": {
        "id": "MV2Q-KPjO4Tw",
        "colab": {
          "base_uri": "https://localhost:8080/"
        },
        "outputId": "042afe7d-4ec4-4e53-dd9f-b757b17960e9"
      },
      "source": [
        "import numpy as np\n",
        "from sklearn.datasets import load_iris\n",
        "from sklearn.linear_model import Perceptron\n",
        "\n",
        "iris = load_iris()\n",
        "X = iris.data[:, (2, 3)]  # petal length, petal width\n",
        "\n",
        "#Lets transform the data to a bynary clasification problem (Iris-Setosa or not)\n",
        "y = (iris.target == 0).astype(int).reshape(-1,1)  \n",
        "\n",
        "per_clf = Perceptron(tol=1e-3, random_state=42)\n",
        "\n",
        "###==== START CODE HERE ====### (≈ 1 lines of code)\n",
        "\n",
        "\n",
        "\n",
        "\n",
        "\n",
        "\n",
        "###==== END CODE HERE ====###\n",
        "\n",
        "\n",
        "y_pred = per_clf.predict([X[0,:]])\n",
        "print(\"The predicted outcome is: \",y_pred[0], \"and the ground truth is:\", y[0,0])"
      ],
      "execution_count": null,
      "outputs": [
        {
          "output_type": "stream",
          "name": "stdout",
          "text": [
            "The predicted outcome is:  1 and the ground truth is: 1\n"
          ]
        }
      ]
    },
    {
      "cell_type": "markdown",
      "metadata": {
        "id": "76iLgMgAWIxP"
      },
      "source": [
        "**Expected Output**:\n",
        "       \n",
        "```\n",
        "The predicted outcome is:  1 and the ground truth is: 1\n",
        "```"
      ]
    },
    {
      "cell_type": "code",
      "metadata": {
        "id": "7reIsWJ2O4UH",
        "colab": {
          "base_uri": "https://localhost:8080/",
          "height": 291
        },
        "outputId": "fe17309d-dd1e-44b1-d670-c4933138e189"
      },
      "source": [
        "a = -per_clf.coef_[0][0] / per_clf.coef_[0][1]\n",
        "b = -per_clf.intercept_ / per_clf.coef_[0][1]\n",
        "y=y.flatten()\n",
        "\n",
        "axes = [0, 5, 0, 2]\n",
        "\n",
        "x0, x1 = np.meshgrid(\n",
        "        np.linspace(axes[0], axes[1], 500).reshape(-1, 1),\n",
        "        np.linspace(axes[2], axes[3], 200).reshape(-1, 1),\n",
        "    )\n",
        "X_new = np.c_[x0.ravel(), x1.ravel()]\n",
        "y_predict = per_clf.predict(X_new)\n",
        "zz = y_predict.reshape(x0.shape)\n",
        "\n",
        "plt.figure(figsize=(10, 4))\n",
        "plt.plot(X[y==0, 0], X[y==0, 1], \"bs\", label=\"Not Iris-Setosa\")\n",
        "plt.plot(X[y==1, 0], X[y==1, 1], \"yo\", label=\"Iris-Setosa\")\n",
        "\n",
        "plt.plot([axes[0], axes[1]], [a * axes[0] + b, a * axes[1] + b], \"k-\", linewidth=3)\n",
        "from matplotlib.colors import ListedColormap\n",
        "custom_cmap = ListedColormap(['#9898ff', '#fafab0'])\n",
        "\n",
        "plt.contourf(x0, x1, zz, cmap=custom_cmap)\n",
        "plt.xlabel(\"Petal length\", fontsize=14)\n",
        "plt.ylabel(\"Petal width\", fontsize=14)\n",
        "plt.legend(loc=\"lower right\", fontsize=14)\n",
        "plt.axis(axes)\n",
        "plt.show()"
      ],
      "execution_count": null,
      "outputs": [
        {
          "output_type": "display_data",
          "data": {
            "text/plain": [
              "<Figure size 720x288 with 1 Axes>"
            ],
            "image/png": "[encoded data removed]"
          },
          "metadata": {
            "needs_background": "light"
          }
        }
      ]
    },
    {
      "cell_type": "markdown",
      "metadata": {
        "id": "DAGkEESuO4UR"
      },
      "source": [
        "# 2- Activation functions"
      ]
    },
    {
      "cell_type": "markdown",
      "metadata": {
        "id": "1Mc6gEBCXRMi"
      },
      "source": [
        "We have learned multiple activation functions, like:\n",
        "\n",
        "$$sigmoid(z) = \\frac{1}{1+e^{-z}}$$\n",
        "\n",
        "\n",
        "$$tanh(z) = \\frac{e^{z}- e^{-z}}{e^{z}+ e^{-z}}$$\n",
        "\n",
        "\n",
        "$$ReLu(z) = max{(0,z)}$$\n",
        "\n",
        "\n",
        "$$LeakyReLu(a,z) = max{(az,z)}$$ "
      ]
    },
    {
      "cell_type": "markdown",
      "metadata": {
        "id": "7QTYsclgqPLz"
      },
      "source": [
        "While we can mathematically get the derivatives of these activation functions, we can also algorithmically calculate the slope of g(z) at any point by taking a very small step to the right and left of z and calculating the slope of the function, like:\n",
        "\n",
        "$$g'(z)=\\frac{g(z+ \\epsilon)-g(z- \\epsilon)}{2 \\times \\epsilon}$$\n"
      ]
    },
    {
      "cell_type": "markdown",
      "metadata": {
        "id": "H9X5L06Z2sTk"
      },
      "source": [
        "#### **Exercise**: "
      ]
    },
    {
      "cell_type": "markdown",
      "metadata": {
        "id": "zXhaJCTC2v0y"
      },
      "source": [
        "Complete the following function declarations: "
      ]
    },
    {
      "cell_type": "code",
      "metadata": {
        "id": "xBDqfCZpO4UU"
      },
      "source": [
        "def sigmoid(z):\n",
        "    return 1 / (1 + np.exp(-z))\n",
        "\n",
        "\n",
        "def tanh(z):\n",
        "###==== START CODE HERE ====### (≈ 1 lines of code)\n",
        "\n",
        "\n",
        "\n",
        "\n",
        "\n",
        "###==== END CODE HERE ====###\n",
        "\n",
        "def ReLu(z):\n",
        "###==== START CODE HERE ====### (≈ 1 lines of code)\n",
        "\n",
        "\n",
        "\n",
        "\n",
        "###==== END CODE HERE ====###\n",
        "\n",
        "def LeakyRelu(z,a=0.1):   #a=0.1 to make it easly to vizualize the differntece, a better values would be 0.001\n",
        "###==== START CODE HERE ====### (≈ 1 lines of code)\n",
        "\n",
        "\n",
        "\n",
        "\n",
        "###==== END CODE HERE ====###\n",
        "\n",
        "def derivative(f, z, eps=0.000001):\n",
        "###==== START CODE HERE ====### (≈ 1 lines of code)\n",
        "\n",
        "\n",
        "\n",
        "\n",
        "###==== END CODE HERE ====###"
      ],
      "execution_count": null,
      "outputs": []
    },
    {
      "cell_type": "code",
      "metadata": {
        "id": "vk8JRI80O4Ud",
        "colab": {
          "base_uri": "https://localhost:8080/",
          "height": 285
        },
        "outputId": "fe484e92-552b-4f46-a146-bfca85842263"
      },
      "source": [
        "z = np.linspace(-5, 5, 200)\n",
        "\n",
        "plt.figure(figsize=(11,4))\n",
        "\n",
        "plt.subplot(121)\n",
        "plt.plot(z, np.sign(z), \"r-\", linewidth=1, label=\"Step\")\n",
        "plt.plot(z, sigmoid(z), \"g--\", linewidth=2, label=\"Sigmoid\")\n",
        "plt.plot(z, tanh(z), \"b-\", linewidth=2, label=\"Tanh\")\n",
        "plt.plot(z, ReLu(z), \"m-.\", linewidth=2, label=\"ReLU\")\n",
        "plt.plot(z, LeakyRelu(z), \"m--\", linewidth=2, label=\"LeakyRelu\")\n",
        "plt.grid(True)\n",
        "plt.legend(loc=\"center right\", fontsize=14)\n",
        "plt.title(\"Activation functions\", fontsize=14)\n",
        "plt.axis([-5, 5, -1.2, 1.2])\n",
        "\n",
        "plt.subplot(122)\n",
        "plt.plot(z, derivative(np.sign, z), \"r-\", linewidth=1, label=\"Step\")\n",
        "plt.plot(0, 0, \"ro\", markersize=5)\n",
        "plt.plot(0, 0, \"rx\", markersize=10)\n",
        "plt.plot(z, derivative(sigmoid, z), \"g--\", linewidth=2, label=\"Sigmoid\")\n",
        "plt.plot(z, derivative(tanh, z), \"b-\", linewidth=2, label=\"Tanh\")\n",
        "plt.plot(z, derivative(ReLu, z), \"m-.\", linewidth=2, label=\"ReLU\")\n",
        "plt.plot(z, derivative(LeakyRelu, z), \"m-.\", linewidth=2, label=\"LeakyRelu\")\n",
        "plt.grid(True)\n",
        "#plt.legend(loc=\"center right\", fontsize=14)\n",
        "plt.title(\"Derivatives\", fontsize=14)\n",
        "plt.axis([-5, 5, -0.2, 1.2])\n",
        "plt.show()"
      ],
      "execution_count": null,
      "outputs": [
        {
          "output_type": "display_data",
          "data": {
            "text/plain": [
              "<Figure size 792x288 with 2 Axes>"
            ],
            "image/png": "[encoded data removed]"
          },
          "metadata": {
            "needs_background": "light"
          }
        }
      ]
    },
    {
      "cell_type": "markdown",
      "metadata": {
        "id": "1Aw6A4SwO4Ux"
      },
      "source": [
        "# 3- Building an NN with Keras for Image Classification"
      ]
    },
    {
      "cell_type": "markdown",
      "metadata": {
        "id": "xaVcEOUVYVDL"
      },
      "source": [
        "### 3.1- Importing TensorFlow and Keras"
      ]
    },
    {
      "cell_type": "code",
      "metadata": {
        "id": "Ut3MQvktO4U2"
      },
      "source": [
        "import tensorflow as tf\n",
        "from tensorflow import keras"
      ],
      "execution_count": null,
      "outputs": []
    },
    {
      "cell_type": "code",
      "metadata": {
        "id": "roQpC8U6O4U7",
        "colab": {
          "base_uri": "https://localhost:8080/",
          "height": 36
        },
        "outputId": "dfdbf31a-403b-4a88-c9b6-7f567c905ffc"
      },
      "source": [
        "tf.__version__"
      ],
      "execution_count": null,
      "outputs": [
        {
          "output_type": "execute_result",
          "data": {
            "text/plain": [
              "'2.8.0'"
            ],
            "application/vnd.google.colaboratory.intrinsic+json": {
              "type": "string"
            }
          },
          "metadata": {},
          "execution_count": 7
        }
      ]
    },
    {
      "cell_type": "code",
      "metadata": {
        "id": "81DSzge9O4VB",
        "colab": {
          "base_uri": "https://localhost:8080/",
          "height": 36
        },
        "outputId": "2673d731-49e2-4eae-cc2d-27672f5b459b"
      },
      "source": [
        "keras.__version__"
      ],
      "execution_count": null,
      "outputs": [
        {
          "output_type": "execute_result",
          "data": {
            "text/plain": [
              "'2.8.0'"
            ],
            "application/vnd.google.colaboratory.intrinsic+json": {
              "type": "string"
            }
          },
          "metadata": {},
          "execution_count": 8
        }
      ]
    },
    {
      "cell_type": "markdown",
      "metadata": {
        "id": "00I89R00YhSq"
      },
      "source": [
        "### 3.2- The Dataset"
      ]
    },
    {
      "cell_type": "markdown",
      "metadata": {
        "id": "0Sgaflt2O4VH"
      },
      "source": [
        "Let's start by loading the fashion MNIST dataset. Keras has a number of functions to load popular datasets in `keras.datasets`. The dataset is already split for you between a training set and a test set, but it can be useful to split the training set further to have a validation set:"
      ]
    },
    {
      "cell_type": "code",
      "metadata": {
        "id": "MqAUiXDqO4VJ",
        "colab": {
          "base_uri": "https://localhost:8080/"
        },
        "outputId": "a736f964-b572-46ef-d8ad-e76fe4ebdc08"
      },
      "source": [
        "fashion_mnist = keras.datasets.fashion_mnist\n",
        "(X_train_full, y_train_full), (X_test, y_test) = fashion_mnist.load_data()"
      ],
      "execution_count": null,
      "outputs": [
        {
          "output_type": "stream",
          "name": "stdout",
          "text": [
            "Downloading data from https://storage.googleapis.com/tensorflow/tf-keras-datasets/train-labels-idx1-ubyte.gz\n",
            "32768/29515 [=================================] - 0s 0us/step\n",
            "40960/29515 [=========================================] - 0s 0us/step\n",
            "Downloading data from https://storage.googleapis.com/tensorflow/tf-keras-datasets/train-images-idx3-ubyte.gz\n",
            "26427392/26421880 [==============================] - 0s 0us/step\n",
            "26435584/26421880 [==============================] - 0s 0us/step\n",
            "Downloading data from https://storage.googleapis.com/tensorflow/tf-keras-datasets/t10k-labels-idx1-ubyte.gz\n",
            "16384/5148 [===============================================================================================] - 0s 0us/step\n",
            "Downloading data from https://storage.googleapis.com/tensorflow/tf-keras-datasets/t10k-images-idx3-ubyte.gz\n",
            "4423680/4422102 [==============================] - 0s 0us/step\n",
            "4431872/4422102 [==============================] - 0s 0us/step\n"
          ]
        }
      ]
    },
    {
      "cell_type": "markdown",
      "metadata": {
        "id": "Z4t7yVEyO4VO"
      },
      "source": [
        "The training set contains 60,000 grayscale images, each 28x28 pixels:"
      ]
    },
    {
      "cell_type": "code",
      "metadata": {
        "id": "hcpgVZ0ZO4VP",
        "colab": {
          "base_uri": "https://localhost:8080/"
        },
        "outputId": "0731b94d-c991-45e1-88a0-e165c1d27600"
      },
      "source": [
        "X_train_full.shape"
      ],
      "execution_count": null,
      "outputs": [
        {
          "output_type": "execute_result",
          "data": {
            "text/plain": [
              "(60000, 28, 28)"
            ]
          },
          "metadata": {},
          "execution_count": 10
        }
      ]
    },
    {
      "cell_type": "markdown",
      "metadata": {
        "id": "8zGDwy0aO4VU"
      },
      "source": [
        "Each pixel intensity is represented as a byte (0 to 255) since in a 8 bits we can get [total number of 256 possible combinations](https://user.eng.umd.edu/~nsw/chbe250/number.htm):"
      ]
    },
    {
      "cell_type": "code",
      "metadata": {
        "id": "4d0Uzm5fO4VV",
        "colab": {
          "base_uri": "https://localhost:8080/"
        },
        "outputId": "d4a99e49-5d8b-4f38-cb4c-a8c3d35912b3"
      },
      "source": [
        "X_train_full.dtype   #8-bit unsigned integer =uint8"
      ],
      "execution_count": null,
      "outputs": [
        {
          "output_type": "execute_result",
          "data": {
            "text/plain": [
              "dtype('uint8')"
            ]
          },
          "metadata": {},
          "execution_count": 11
        }
      ]
    },
    {
      "cell_type": "markdown",
      "metadata": {
        "id": "Jb9MXu8fYmvC"
      },
      "source": [
        "#### 3.2.1- Splitting the dataset"
      ]
    },
    {
      "cell_type": "markdown",
      "metadata": {
        "id": "yom1ZpOkO4VZ"
      },
      "source": [
        "Let's split the full training set into a validation set and a (smaller) training set. We also scale the pixel intensities down to the 0-1 range and convert them to floats, by dividing by 255."
      ]
    },
    {
      "cell_type": "code",
      "metadata": {
        "id": "YDJQ143LO4Va"
      },
      "source": [
        "X_valid, X_train = X_train_full[:5000] / 255., X_train_full[5000:] / 255.\n",
        "y_valid, y_train = y_train_full[:5000], y_train_full[5000:]\n",
        "X_test = X_test / 255."
      ],
      "execution_count": null,
      "outputs": []
    },
    {
      "cell_type": "markdown",
      "metadata": {
        "id": "phsRVGzmO4Vg"
      },
      "source": [
        "You can plot an image using Matplotlib's `imshow()` function, with a `'binary'`\n",
        " color map:"
      ]
    },
    {
      "cell_type": "code",
      "metadata": {
        "id": "Eu298vsiO4Vh",
        "colab": {
          "base_uri": "https://localhost:8080/",
          "height": 248
        },
        "outputId": "3b676171-bba6-463f-be73-aaa03eb59c6e"
      },
      "source": [
        "plt.imshow(X_train[3], cmap=\"binary\")\n",
        "plt.axis('off')\n",
        "plt.show()"
      ],
      "execution_count": null,
      "outputs": [
        {
          "output_type": "display_data",
          "data": {
            "text/plain": [
              "<Figure size 432x288 with 1 Axes>"
            ],
            "image/png": "[encoded data removed]"
          },
          "metadata": {
            "needs_background": "light"
          }
        }
      ]
    },
    {
      "cell_type": "markdown",
      "metadata": {
        "id": "CKfC6XGTO4Vl"
      },
      "source": [
        "The labels are the class IDs (represented as uint8), from 0 to 9:"
      ]
    },
    {
      "cell_type": "code",
      "metadata": {
        "id": "p3mMa9lWO4Vm",
        "colab": {
          "base_uri": "https://localhost:8080/"
        },
        "outputId": "e1487d8c-82cc-40b8-faf6-89d7c2ceeed9"
      },
      "source": [
        "y_train"
      ],
      "execution_count": null,
      "outputs": [
        {
          "output_type": "execute_result",
          "data": {
            "text/plain": [
              "array([4, 0, 7, ..., 3, 0, 5], dtype=uint8)"
            ]
          },
          "metadata": {},
          "execution_count": 14
        }
      ]
    },
    {
      "cell_type": "markdown",
      "metadata": {
        "id": "wKlvvVvjO4Vr"
      },
      "source": [
        "Here are the corresponding class names:"
      ]
    },
    {
      "cell_type": "code",
      "metadata": {
        "id": "Bh_a_S08O4Vt"
      },
      "source": [
        "class_names = [\"T-shirt/top\", \"Trouser\", \"Pullover\", \"Dress\", \"Coat\",\n",
        "               \"Sandal\", \"Shirt\", \"Sneaker\", \"Bag\", \"Ankle boot\"]"
      ],
      "execution_count": null,
      "outputs": []
    },
    {
      "cell_type": "markdown",
      "metadata": {
        "id": "uErWHvrJO4Vz"
      },
      "source": [
        "So the 4th image in the training set is a 'Ankle boot':"
      ]
    },
    {
      "cell_type": "code",
      "metadata": {
        "id": "8uPPdDwtO4V1",
        "colab": {
          "base_uri": "https://localhost:8080/",
          "height": 36
        },
        "outputId": "e03e9ccb-7097-449d-bc1c-4d39b9746f75"
      },
      "source": [
        "class_names[y_train[4]]"
      ],
      "execution_count": null,
      "outputs": [
        {
          "output_type": "execute_result",
          "data": {
            "text/plain": [
              "'Ankle boot'"
            ],
            "application/vnd.google.colaboratory.intrinsic+json": {
              "type": "string"
            }
          },
          "metadata": {},
          "execution_count": 16
        }
      ]
    },
    {
      "cell_type": "code",
      "metadata": {
        "id": "5zzjNgvI8LdW",
        "colab": {
          "base_uri": "https://localhost:8080/"
        },
        "outputId": "65cf03c8-fa34-4202-dcd8-3fca624df1b8"
      },
      "source": [
        "print( \"The training set shape is: \" , X_train.shape)\n",
        "print( \"The validation set shape is: \", X_valid.shape)\n",
        "print( \"The testing set shape is: \", X_test.shape)"
      ],
      "execution_count": null,
      "outputs": [
        {
          "output_type": "stream",
          "name": "stdout",
          "text": [
            "The training set shape is:  (55000, 28, 28)\n",
            "The validation set shape is:  (5000, 28, 28)\n",
            "The testing set shape is:  (10000, 28, 28)\n"
          ]
        }
      ]
    },
    {
      "cell_type": "markdown",
      "metadata": {
        "id": "OORMf7vnYwCg"
      },
      "source": [
        "#### 3.2.2.- Visualizing the Dataset"
      ]
    },
    {
      "cell_type": "markdown",
      "metadata": {
        "id": "G3IcA65gO4WC"
      },
      "source": [
        "Let's take a look at a sample of the images in the dataset:"
      ]
    },
    {
      "cell_type": "code",
      "metadata": {
        "id": "cn3ugDIcO4WD",
        "colab": {
          "base_uri": "https://localhost:8080/",
          "height": 308
        },
        "outputId": "7b809aa4-88bd-4c57-8982-c27151073f71"
      },
      "source": [
        "n_rows = 4\n",
        "n_cols = 10\n",
        "plt.figure(figsize=(n_cols * 1.2, n_rows * 1.2))\n",
        "for row in range(n_rows):\n",
        "    for col in range(n_cols):\n",
        "        index = n_cols * row + col\n",
        "        plt.subplot(n_rows, n_cols, index + 1)\n",
        "        plt.imshow(X_train[index], cmap=\"binary\", interpolation=\"nearest\")\n",
        "        plt.axis('off')\n",
        "        plt.title(class_names[y_train[index]], fontsize=12)\n",
        "plt.subplots_adjust(wspace=0.2, hspace=0.5)\n",
        "plt.show()"
      ],
      "execution_count": null,
      "outputs": [
        {
          "output_type": "display_data",
          "data": {
            "text/plain": [
              "<Figure size 864x345.6 with 40 Axes>"
            ],
            "image/png": "[encoded data removed]"
          },
          "metadata": {
            "needs_background": "light"
          }
        }
      ]
    },
    {
      "cell_type": "markdown",
      "metadata": {
        "id": "Hyr7XsKe-SJO"
      },
      "source": [
        "## 3.3- Setting up the NN model with Keras"
      ]
    },
    {
      "cell_type": "markdown",
      "metadata": {
        "id": "i8FRTvpHZK4h"
      },
      "source": [
        "To ensure reproducibility we need to set the random seeds"
      ]
    },
    {
      "cell_type": "code",
      "metadata": {
        "id": "FdWdHNRqO4WO"
      },
      "source": [
        "keras.backend.clear_session()\n",
        "np.random.seed(42)\n",
        "tf.random.set_seed(42)\n"
      ],
      "execution_count": null,
      "outputs": []
    },
    {
      "cell_type": "markdown",
      "metadata": {
        "id": "KBI0RNHnZR_J"
      },
      "source": [
        "Now we need to specify our Neural Network architecture. We need to specify:\n",
        "* The number of layers in our network\n",
        "* The number of neurons per layer\n",
        "* The activation function of our layers\n",
        "\n",
        "We can achieve all this by using `keras.layers`. There are multiple types of layer we can use (see more [here](https://keras.io/layers/core/)). For this architecture we will have:\n",
        "\n",
        "**1)** The input layer will be a keras.layers.Flatten in order to \"flatten” a image from a matrix to a vector.\n",
        "\n",
        "**2)** The 1st hidden layer will be a fully/densely connected layer with 300 neurons and ReLu activation function using `keras.layers.Dense(300, activation=\"relu\")`\n",
        "\n",
        "**3)** The 2nd hidden layer will be another fully/densely connected layer with 100 neuron and ReLu activation function using `keras.layers.Dense(100, activation=\"relu\")`\n",
        "\n",
        "**4)** The last layer, our output layer, will be another fully/densely connected layer but with just 10 layers since we have 10 classes. Also, since we have a multiclass classification problem, we will use a softmax activation function.\n"
      ]
    },
    {
      "cell_type": "code",
      "metadata": {
        "id": "8fwvWjrRO4WR"
      },
      "source": [
        "model = keras.models.Sequential([\n",
        "    keras.layers.Flatten(input_shape=[28, 28]),\n",
        "    keras.layers.Dense(300, activation=\"relu\"),\n",
        "    keras.layers.Dense(100, activation=\"relu\"),\n",
        "    keras.layers.Dense(10, activation=\"softmax\")\n",
        "])"
      ],
      "execution_count": null,
      "outputs": []
    },
    {
      "cell_type": "code",
      "metadata": {
        "id": "wE2pVtKKO4WU",
        "colab": {
          "base_uri": "https://localhost:8080/"
        },
        "outputId": "bcf89ba3-4f65-4527-972b-8f169e36b481"
      },
      "source": [
        "model.layers"
      ],
      "execution_count": null,
      "outputs": [
        {
          "output_type": "execute_result",
          "data": {
            "text/plain": [
              "[<keras.layers.core.flatten.Flatten at 0x7fec657e2550>,\n",
              " <keras.layers.core.dense.Dense at 0x7fec65d15d10>,\n",
              " <keras.layers.core.dense.Dense at 0x7fec657dcd10>,\n",
              " <keras.layers.core.dense.Dense at 0x7fec62e57950>]"
            ]
          },
          "metadata": {},
          "execution_count": 21
        }
      ]
    },
    {
      "cell_type": "markdown",
      "metadata": {
        "id": "XhvVDzDuI5sO"
      },
      "source": [
        "We can get a summary of our NN architecture"
      ]
    },
    {
      "cell_type": "code",
      "metadata": {
        "id": "776rIVEKO4WY",
        "colab": {
          "base_uri": "https://localhost:8080/",
          "height": 533
        },
        "outputId": "ba2e3893-fd6a-4dd1-fdc4-66581c7bcfa9"
      },
      "source": [
        "keras.utils.plot_model(model, show_shapes=True)"
      ],
      "execution_count": null,
      "outputs": [
        {
          "output_type": "execute_result",
          "data": {
            "text/plain": [
              "<IPython.core.display.Image object>"
            ],
            "image/png": "[encoded data removed]"
          },
          "metadata": {},
          "execution_count": 22
        }
      ]
    },
    {
      "cell_type": "code",
      "metadata": {
        "id": "D1xEdSxOJX_q",
        "colab": {
          "base_uri": "https://localhost:8080/"
        },
        "outputId": "17c097d8-a28a-443f-9c70-047476ce4464"
      },
      "source": [
        "model.summary()"
      ],
      "execution_count": null,
      "outputs": [
        {
          "output_type": "stream",
          "name": "stdout",
          "text": [
            "Model: \"sequential\"\n",
            "_________________________________________________________________\n",
            " Layer (type)                Output Shape              Param #   \n",
            "=================================================================\n",
            " flatten (Flatten)           (None, 784)               0         \n",
            "                                                                 \n",
            " dense (Dense)               (None, 300)               235500    \n",
            "                                                                 \n",
            " dense_1 (Dense)             (None, 100)               30100     \n",
            "                                                                 \n",
            " dense_2 (Dense)             (None, 10)                1010      \n",
            "                                                                 \n",
            "=================================================================\n",
            "Total params: 266,610\n",
            "Trainable params: 266,610\n",
            "Non-trainable params: 0\n",
            "_________________________________________________________________\n"
          ]
        }
      ]
    },
    {
      "cell_type": "markdown",
      "metadata": {
        "id": "taqv_kZVJhUD"
      },
      "source": [
        "This summary show that:\n",
        "\n",
        "* $n^{[0]}$= 784  (inputs)\n",
        "* $n^{[1]}$= 300\n",
        "* $n^{[2]}$= 100\n",
        "* $n^{[3]}$= 10 (outputs)\n",
        "\n",
        "Hence, we have a total of 266,610 model parameters that need to be trained. Thankfully, Keras already randomly initialize the weights and initialized to zero our bias terms."
      ]
    },
    {
      "cell_type": "code",
      "metadata": {
        "id": "FC1zBh7QO4Wm"
      },
      "source": [
        "hidden1 = model.layers[1]\n",
        "hidden1.name\n",
        "weights, biases = hidden1.get_weights()"
      ],
      "execution_count": null,
      "outputs": []
    },
    {
      "cell_type": "code",
      "metadata": {
        "id": "6ay39MygO4Wr",
        "colab": {
          "base_uri": "https://localhost:8080/"
        },
        "outputId": "bcea688c-3726-4275-dcc3-f04ff34920c4"
      },
      "source": [
        "weights"
      ],
      "execution_count": null,
      "outputs": [
        {
          "output_type": "execute_result",
          "data": {
            "text/plain": [
              "array([[ 0.02448617, -0.00877795, -0.02189048, ..., -0.02766046,\n",
              "         0.03859074, -0.06889391],\n",
              "       [ 0.00476504, -0.03105379, -0.0586676 , ...,  0.00602964,\n",
              "        -0.02763776, -0.04165364],\n",
              "       [-0.06189284, -0.06901957,  0.07102345, ..., -0.04238207,\n",
              "         0.07121518, -0.07331658],\n",
              "       ...,\n",
              "       [-0.03048757,  0.02155137, -0.05400612, ..., -0.00113463,\n",
              "         0.00228987,  0.05581069],\n",
              "       [ 0.07061854, -0.06960931,  0.07038955, ..., -0.00384101,\n",
              "         0.00034875,  0.02878492],\n",
              "       [-0.06022581,  0.01577859, -0.02585464, ..., -0.00527829,\n",
              "         0.00272203, -0.06793761]], dtype=float32)"
            ]
          },
          "metadata": {},
          "execution_count": 25
        }
      ]
    },
    {
      "cell_type": "code",
      "metadata": {
        "id": "P24MBdG8LWJx",
        "colab": {
          "base_uri": "https://localhost:8080/"
        },
        "outputId": "14e997e9-e665-4b89-a69e-e4fa077d02a0"
      },
      "source": [
        "biases"
      ],
      "execution_count": null,
      "outputs": [
        {
          "output_type": "execute_result",
          "data": {
            "text/plain": [
              "array([0., 0., 0., 0., 0., 0., 0., 0., 0., 0., 0., 0., 0., 0., 0., 0., 0.,\n",
              "       0., 0., 0., 0., 0., 0., 0., 0., 0., 0., 0., 0., 0., 0., 0., 0., 0.,\n",
              "       0., 0., 0., 0., 0., 0., 0., 0., 0., 0., 0., 0., 0., 0., 0., 0., 0.,\n",
              "       0., 0., 0., 0., 0., 0., 0., 0., 0., 0., 0., 0., 0., 0., 0., 0., 0.,\n",
              "       0., 0., 0., 0., 0., 0., 0., 0., 0., 0., 0., 0., 0., 0., 0., 0., 0.,\n",
              "       0., 0., 0., 0., 0., 0., 0., 0., 0., 0., 0., 0., 0., 0., 0., 0., 0.,\n",
              "       0., 0., 0., 0., 0., 0., 0., 0., 0., 0., 0., 0., 0., 0., 0., 0., 0.,\n",
              "       0., 0., 0., 0., 0., 0., 0., 0., 0., 0., 0., 0., 0., 0., 0., 0., 0.,\n",
              "       0., 0., 0., 0., 0., 0., 0., 0., 0., 0., 0., 0., 0., 0., 0., 0., 0.,\n",
              "       0., 0., 0., 0., 0., 0., 0., 0., 0., 0., 0., 0., 0., 0., 0., 0., 0.,\n",
              "       0., 0., 0., 0., 0., 0., 0., 0., 0., 0., 0., 0., 0., 0., 0., 0., 0.,\n",
              "       0., 0., 0., 0., 0., 0., 0., 0., 0., 0., 0., 0., 0., 0., 0., 0., 0.,\n",
              "       0., 0., 0., 0., 0., 0., 0., 0., 0., 0., 0., 0., 0., 0., 0., 0., 0.,\n",
              "       0., 0., 0., 0., 0., 0., 0., 0., 0., 0., 0., 0., 0., 0., 0., 0., 0.,\n",
              "       0., 0., 0., 0., 0., 0., 0., 0., 0., 0., 0., 0., 0., 0., 0., 0., 0.,\n",
              "       0., 0., 0., 0., 0., 0., 0., 0., 0., 0., 0., 0., 0., 0., 0., 0., 0.,\n",
              "       0., 0., 0., 0., 0., 0., 0., 0., 0., 0., 0., 0., 0., 0., 0., 0., 0.,\n",
              "       0., 0., 0., 0., 0., 0., 0., 0., 0., 0., 0.], dtype=float32)"
            ]
          },
          "metadata": {},
          "execution_count": 26
        }
      ]
    },
    {
      "cell_type": "markdown",
      "metadata": {
        "id": "uZ7qkZNwLazk"
      },
      "source": [
        "Just in case you want to look at the model's parameters, you need to be aware that in Keras the shape/dimension of $W^{[l]}$ is actually $(n^{[l-1]}, n^{[l]})$ and $b^{[l]}$ is  $(n^{[l]},)$."
      ]
    },
    {
      "cell_type": "code",
      "metadata": {
        "id": "yn6EsAy4O4Wu",
        "colab": {
          "base_uri": "https://localhost:8080/"
        },
        "outputId": "294a07e5-9d67-4acb-c6a8-c1d7fd01a890"
      },
      "source": [
        "weights.shape"
      ],
      "execution_count": null,
      "outputs": [
        {
          "output_type": "execute_result",
          "data": {
            "text/plain": [
              "(784, 300)"
            ]
          },
          "metadata": {},
          "execution_count": 27
        }
      ]
    },
    {
      "cell_type": "code",
      "metadata": {
        "id": "R7h6Ih3SO4W5",
        "colab": {
          "base_uri": "https://localhost:8080/"
        },
        "outputId": "67c8f7db-f819-4eed-f495-3c2a73bb45fb"
      },
      "source": [
        "biases.shape"
      ],
      "execution_count": null,
      "outputs": [
        {
          "output_type": "execute_result",
          "data": {
            "text/plain": [
              "(300,)"
            ]
          },
          "metadata": {},
          "execution_count": 28
        }
      ]
    },
    {
      "cell_type": "markdown",
      "metadata": {
        "id": "f74-LYKmNPOz"
      },
      "source": [
        "## 3.4- Training our NN model with Keras"
      ]
    },
    {
      "cell_type": "markdown",
      "metadata": {
        "id": "ZTQw6ntGNXrZ"
      },
      "source": [
        "Since this is a multiclass classification problem we would use the Cross Entropy loss function (see Eq. 4-22) ; however, for our evaluation metric we would like to use [accuracy]( https://developers.google.com/machine-learning/crash-course/classification/accuracy) since we would like to know the percentage of correctly classified instances. Lastly, since we have so many parameters, lets use  Stochastic gradient descent (sgd) optimizer to get to a “good” solution fast."
      ]
    },
    {
      "cell_type": "code",
      "metadata": {
        "id": "id2g0ssjO4W-"
      },
      "source": [
        "model.compile(loss=\"sparse_categorical_crossentropy\",\n",
        "              optimizer=\"sgd\",\n",
        "              metrics=[\"accuracy\"])\n",
        "\n",
        "#Lets save our initial model weights so we can \"reset\" the traning latter\n",
        "Wsave = model.get_weights()"
      ],
      "execution_count": null,
      "outputs": []
    },
    {
      "cell_type": "markdown",
      "metadata": {
        "id": "yYKTL9qgO4XA"
      },
      "source": [
        "This is equivalent to:"
      ]
    },
    {
      "cell_type": "markdown",
      "metadata": {
        "id": "HCEOej1dO4XB"
      },
      "source": [
        "```python\n",
        "model.compile(loss=keras.losses.sparse_categorical_crossentropy,\n",
        "              optimizer=keras.optimizers.SGD(),\n",
        "              metrics=[keras.metrics.sparse_categorical_accuracy])\n",
        "```"
      ]
    },
    {
      "cell_type": "markdown",
      "metadata": {
        "id": "L79kTIGkL5Nf"
      },
      "source": [
        "Now we can train our model, and fit our parameters to the training set. We also pass the validation set just for evaluation purposes (no training is done with the validation set).\n",
        "\n",
        "For now, lets do 1 iteration (`epochs=1`) of my SGD going over the whole dataset (`batch_size=1`).\n",
        "\n",
        "This will take a while to run..."
      ]
    },
    {
      "cell_type": "code",
      "metadata": {
        "id": "CwJ5DVKZW6WR",
        "colab": {
          "base_uri": "https://localhost:8080/"
        },
        "outputId": "09bbe476-98f7-4204-fa5a-12a634011bf8"
      },
      "source": [
        "tic = time.process_time()\n",
        "model.set_weights(Wsave)\n",
        "history = model.fit(X_train, y_train, epochs=1, batch_size=1, validation_data=(X_valid, y_valid), verbose=1)\n",
        "toc = time.process_time()\n",
        "print(\"Time to train the model:\"+str((toc - tic)) + \"s\")"
      ],
      "execution_count": null,
      "outputs": [
        {
          "output_type": "stream",
          "name": "stdout",
          "text": [
            "55000/55000 [==============================] - 149s 3ms/step - loss: 0.5134 - accuracy: 0.8097 - val_loss: 0.4845 - val_accuracy: 0.8234\n",
            "Time to train the model:163.247706438s\n"
          ]
        }
      ]
    },
    {
      "cell_type": "markdown",
      "metadata": {
        "id": "uTXd7WDhXaBn"
      },
      "source": [
        "If you did not commented out the `model.set_weights(Wsave)` and is the 1st time you run this code cell, from the printout you will see that the model gets a training accuracy of ~81% and validation accuracy of ~80%. Every time me run the `.fit` method of the model, we continue to train the model \n",
        "\n",
        "Let’s see if we can get a better performance by training over more iterations, but in batches now (like BGD), so let’s \"reset\" our model.\n",
        "\n",
        "This will take even longer to run.\n"
      ]
    },
    {
      "cell_type": "code",
      "metadata": {
        "id": "4QTmgSR5bhFg",
        "colab": {
          "base_uri": "https://localhost:8080/"
        },
        "outputId": "83b25887-6fb3-43b9-ebb5-8cd5d3f7d6e2"
      },
      "source": [
        "tic = time.process_time()\n",
        "model.set_weights(Wsave)\n",
        "history = model.fit(X_train, y_train, epochs=30, batch_size=50, validation_data=(X_valid, y_valid), verbose=1)\n",
        "toc = time.process_time()\n",
        "print(\"Time to train the model:\"+str((toc - tic)) + \"s\")"
      ],
      "execution_count": null,
      "outputs": [
        {
          "output_type": "stream",
          "name": "stdout",
          "text": [
            "Epoch 1/30\n",
            "1100/1100 [==============================] - 7s 6ms/step - loss: 0.8153 - accuracy: 0.7417 - val_loss: 0.5412 - val_accuracy: 0.8232\n",
            "Epoch 2/30\n",
            "1100/1100 [==============================] - 7s 6ms/step - loss: 0.5169 - accuracy: 0.8234 - val_loss: 0.4687 - val_accuracy: 0.8414\n",
            "Epoch 3/30\n",
            "1100/1100 [==============================] - 7s 6ms/step - loss: 0.4684 - accuracy: 0.8377 - val_loss: 0.4752 - val_accuracy: 0.8298\n",
            "Epoch 4/30\n",
            "1100/1100 [==============================] - 7s 6ms/step - loss: 0.4395 - accuracy: 0.8477 - val_loss: 0.4198 - val_accuracy: 0.8564\n",
            "Epoch 5/30\n",
            "1100/1100 [==============================] - 7s 6ms/step - loss: 0.4208 - accuracy: 0.8542 - val_loss: 0.3993 - val_accuracy: 0.8630\n",
            "Epoch 6/30\n",
            "1100/1100 [==============================] - 7s 6ms/step - loss: 0.4042 - accuracy: 0.8594 - val_loss: 0.3924 - val_accuracy: 0.8664\n",
            "Epoch 7/30\n",
            "1100/1100 [==============================] - 7s 7ms/step - loss: 0.3917 - accuracy: 0.8634 - val_loss: 0.3859 - val_accuracy: 0.8688\n",
            "Epoch 8/30\n",
            "1100/1100 [==============================] - 7s 6ms/step - loss: 0.3804 - accuracy: 0.8663 - val_loss: 0.4135 - val_accuracy: 0.8536\n",
            "Epoch 9/30\n",
            "1100/1100 [==============================] - 7s 7ms/step - loss: 0.3704 - accuracy: 0.8694 - val_loss: 0.3734 - val_accuracy: 0.8684\n",
            "Epoch 10/30\n",
            "1100/1100 [==============================] - 7s 7ms/step - loss: 0.3621 - accuracy: 0.8720 - val_loss: 0.3644 - val_accuracy: 0.8724\n",
            "Epoch 11/30\n",
            "1100/1100 [==============================] - 7s 7ms/step - loss: 0.3542 - accuracy: 0.8749 - val_loss: 0.3633 - val_accuracy: 0.8726\n",
            "Epoch 12/30\n",
            "1100/1100 [==============================] - 6s 6ms/step - loss: 0.3469 - accuracy: 0.8780 - val_loss: 0.3483 - val_accuracy: 0.8754\n",
            "Epoch 13/30\n",
            "1100/1100 [==============================] - 7s 6ms/step - loss: 0.3401 - accuracy: 0.8794 - val_loss: 0.3478 - val_accuracy: 0.8776\n",
            "Epoch 14/30\n",
            "1100/1100 [==============================] - 6s 6ms/step - loss: 0.3346 - accuracy: 0.8806 - val_loss: 0.3528 - val_accuracy: 0.8742\n",
            "Epoch 15/30\n",
            "1100/1100 [==============================] - 6s 6ms/step - loss: 0.3274 - accuracy: 0.8844 - val_loss: 0.3369 - val_accuracy: 0.8788\n",
            "Epoch 16/30\n",
            "1100/1100 [==============================] - 6s 6ms/step - loss: 0.3216 - accuracy: 0.8868 - val_loss: 0.3300 - val_accuracy: 0.8832\n",
            "Epoch 17/30\n",
            "1100/1100 [==============================] - 6s 6ms/step - loss: 0.3163 - accuracy: 0.8865 - val_loss: 0.3572 - val_accuracy: 0.8718\n",
            "Epoch 18/30\n",
            "1100/1100 [==============================] - 6s 6ms/step - loss: 0.3104 - accuracy: 0.8895 - val_loss: 0.3349 - val_accuracy: 0.8832\n",
            "Epoch 19/30\n",
            "1100/1100 [==============================] - 7s 6ms/step - loss: 0.3062 - accuracy: 0.8903 - val_loss: 0.3255 - val_accuracy: 0.8846\n",
            "Epoch 20/30\n",
            "1100/1100 [==============================] - 7s 6ms/step - loss: 0.3020 - accuracy: 0.8916 - val_loss: 0.3468 - val_accuracy: 0.8756\n",
            "Epoch 21/30\n",
            "1100/1100 [==============================] - 7s 6ms/step - loss: 0.2963 - accuracy: 0.8941 - val_loss: 0.3280 - val_accuracy: 0.8858\n",
            "Epoch 22/30\n",
            "1100/1100 [==============================] - 7s 7ms/step - loss: 0.2925 - accuracy: 0.8956 - val_loss: 0.3159 - val_accuracy: 0.8892\n",
            "Epoch 23/30\n",
            "1100/1100 [==============================] - 7s 6ms/step - loss: 0.2884 - accuracy: 0.8967 - val_loss: 0.3182 - val_accuracy: 0.8888\n",
            "Epoch 24/30\n",
            "1100/1100 [==============================] - 6s 6ms/step - loss: 0.2827 - accuracy: 0.8985 - val_loss: 0.3202 - val_accuracy: 0.8806\n",
            "Epoch 25/30\n",
            "1100/1100 [==============================] - 7s 6ms/step - loss: 0.2804 - accuracy: 0.8993 - val_loss: 0.3114 - val_accuracy: 0.8892\n",
            "Epoch 26/30\n",
            "1100/1100 [==============================] - 7s 6ms/step - loss: 0.2763 - accuracy: 0.9002 - val_loss: 0.3173 - val_accuracy: 0.8864\n",
            "Epoch 27/30\n",
            "1100/1100 [==============================] - 7s 6ms/step - loss: 0.2724 - accuracy: 0.9029 - val_loss: 0.3101 - val_accuracy: 0.8914\n",
            "Epoch 28/30\n",
            "1100/1100 [==============================] - 6s 6ms/step - loss: 0.2691 - accuracy: 0.9035 - val_loss: 0.3157 - val_accuracy: 0.8860\n",
            "Epoch 29/30\n",
            "1100/1100 [==============================] - 7s 6ms/step - loss: 0.2651 - accuracy: 0.9048 - val_loss: 0.3209 - val_accuracy: 0.8856\n",
            "Epoch 30/30\n",
            "1100/1100 [==============================] - 7s 6ms/step - loss: 0.2612 - accuracy: 0.9072 - val_loss: 0.3255 - val_accuracy: 0.8812\n",
            "Time to train the model:255.704218099s\n"
          ]
        }
      ]
    },
    {
      "cell_type": "markdown",
      "metadata": {
        "id": "Iud8cLaqVZyi"
      },
      "source": [
        "We got a better accuracy now!! but it took so long, in the next notebook we will learn how to train out model using the free GPU of Google Colab.\n",
        "\n",
        "It is important to understand the difference between epochs and how `barch_size` related to the step of our optimizer. As you can see bellow, in our last training, we had `epochs=30` and `steps=1100`. \n",
        "\n",
        "An Epoch is an arbitrary cutoff, generally defined as \"one pass over the entire dataset\", used to separate training into distinct phases, which is useful for logging and periodic evaluation. Hence, setting up the number of epochs is like setting up the number of times we want Keras to save the loss and performance metric of my training and validation set. While in each epoch, we go over several steps updating our parameters (as you can see from the update bar), but only calculate loss and performance of validation set at the end of each epoch.\n",
        "\n",
        "The  number of steps are given by the `m/batch size`. We could also use the `steps_per_epoch` to directly set this value.  \n",
        "\n"
      ]
    },
    {
      "cell_type": "code",
      "metadata": {
        "id": "DYqTDRmEO4XI",
        "colab": {
          "base_uri": "https://localhost:8080/"
        },
        "outputId": "64dc7937-abfb-4a3e-cb6d-7a1137b26ea4"
      },
      "source": [
        "history.params"
      ],
      "execution_count": null,
      "outputs": [
        {
          "output_type": "execute_result",
          "data": {
            "text/plain": [
              "{'epochs': 30, 'steps': 1100, 'verbose': 1}"
            ]
          },
          "metadata": {},
          "execution_count": 32
        }
      ]
    },
    {
      "cell_type": "markdown",
      "metadata": {
        "id": "jQ9ARdV0bUN1"
      },
      "source": [
        "The `model.fit` method returns a *history* object. Its `History.history` attribute is a record of training loss values and metrics values at successive epochs, as well as validation loss values and validation metrics values (if applicable)."
      ]
    },
    {
      "cell_type": "code",
      "metadata": {
        "id": "2sqX6O8YO4XP",
        "colab": {
          "base_uri": "https://localhost:8080/"
        },
        "outputId": "a4785778-f598-4ca3-c1f3-d8b4d4cc2f3a"
      },
      "source": [
        "history.history.keys()"
      ],
      "execution_count": null,
      "outputs": [
        {
          "output_type": "execute_result",
          "data": {
            "text/plain": [
              "dict_keys(['loss', 'accuracy', 'val_loss', 'val_accuracy'])"
            ]
          },
          "metadata": {},
          "execution_count": 33
        }
      ]
    },
    {
      "cell_type": "markdown",
      "metadata": {
        "id": "hRVslLkobv1H"
      },
      "source": [
        "We can use these values to plot the convergence of our model. Be advise that the x axis is number of epochs, not size of training set as in our Learning Curves plots"
      ]
    },
    {
      "cell_type": "code",
      "metadata": {
        "id": "ZHBFsLE5O4XT",
        "colab": {
          "base_uri": "https://localhost:8080/",
          "height": 328
        },
        "outputId": "6f49fdaf-434d-429f-d773-a0d6e70ab1b0"
      },
      "source": [
        "import pandas as pd\n",
        "\n",
        "pd.DataFrame(history.history).plot(figsize=(8, 5))\n",
        "plt.grid(True)\n",
        "plt.gca().set_ylim(0, 1)\n",
        "plt.show()"
      ],
      "execution_count": null,
      "outputs": [
        {
          "output_type": "display_data",
          "data": {
            "text/plain": [
              "<Figure size 576x360 with 1 Axes>"
            ],
            "image/png": "[encoded data removed]"
          },
          "metadata": {
            "needs_background": "light"
          }
        }
      ]
    },
    {
      "cell_type": "markdown",
      "metadata": {
        "id": "205ixaiJb8I4"
      },
      "source": [
        "We can clearly see that our model is converging just fine. "
      ]
    },
    {
      "cell_type": "markdown",
      "metadata": {
        "id": "DkZgpMF-cGdO"
      },
      "source": [
        "## 3.5- Using our NN for prediction"
      ]
    },
    {
      "cell_type": "markdown",
      "metadata": {
        "id": "PsF2l94idIHJ"
      },
      "source": [
        "Now we can use our trained model and testing set to get an estimate of how our model would perform if deployed. \n",
        "\n",
        "Remember, that you should never look at the testing set performance and re-training your model, since you will be **OVERFITTING TO THE TEST SET!!!**... hence you would not have any data to reliably estimate of how our model would perform if deployed.\n"
      ]
    },
    {
      "cell_type": "code",
      "metadata": {
        "id": "xg_JOnG-O4XZ",
        "colab": {
          "base_uri": "https://localhost:8080/"
        },
        "outputId": "2498ad60-9c43-4819-9f3f-3ba375042bdd"
      },
      "source": [
        "model.evaluate(X_test, y_test)"
      ],
      "execution_count": null,
      "outputs": [
        {
          "output_type": "stream",
          "name": "stdout",
          "text": [
            "313/313 [==============================] - 1s 4ms/step - loss: 0.3589 - accuracy: 0.8722\n"
          ]
        },
        {
          "output_type": "execute_result",
          "data": {
            "text/plain": [
              "[0.3589121699333191, 0.8722000122070312]"
            ]
          },
          "metadata": {},
          "execution_count": 35
        }
      ]
    },
    {
      "cell_type": "markdown",
      "metadata": {
        "id": "Byj3_wHIdszK"
      },
      "source": [
        "We can see that even to get a prediction out of our model, it takes some time. This is a metric that in some cases might be as valuable as accuracy or performance."
      ]
    },
    {
      "cell_type": "code",
      "metadata": {
        "id": "VP93ZyK8O4Xb",
        "colab": {
          "base_uri": "https://localhost:8080/"
        },
        "outputId": "f7f7dc54-b8d0-462c-b472-9e75bc9089b4"
      },
      "source": [
        "X_new = X_test[:3]\n",
        "y_proba = model.predict(X_new)\n",
        "y_proba.round(2)"
      ],
      "execution_count": null,
      "outputs": [
        {
          "output_type": "execute_result",
          "data": {
            "text/plain": [
              "array([[0.  , 0.  , 0.  , 0.  , 0.  , 0.06, 0.  , 0.06, 0.  , 0.88],\n",
              "       [0.  , 0.  , 0.98, 0.  , 0.02, 0.  , 0.  , 0.  , 0.  , 0.  ],\n",
              "       [0.  , 1.  , 0.  , 0.  , 0.  , 0.  , 0.  , 0.  , 0.  , 0.  ]],\n",
              "      dtype=float32)"
            ]
          },
          "metadata": {},
          "execution_count": 36
        }
      ]
    },
    {
      "cell_type": "markdown",
      "metadata": {
        "id": "pYhAvB0recN4"
      },
      "source": [
        "Since the output later of this NN model has 10 artificial neuron, one for each of the class in my dataset, as output I will get a vector of probabilities. "
      ]
    },
    {
      "cell_type": "code",
      "metadata": {
        "id": "TXz597mXO4Xe",
        "colab": {
          "base_uri": "https://localhost:8080/"
        },
        "outputId": "e29710cf-69b4-4b6c-eb31-ae7920de0539"
      },
      "source": [
        "y_prob = model.predict(X_new) \n",
        "y_classes = y_prob.argmax(axis=-1)\n",
        "y_classes"
      ],
      "execution_count": null,
      "outputs": [
        {
          "output_type": "execute_result",
          "data": {
            "text/plain": [
              "array([9, 2, 1])"
            ]
          },
          "metadata": {},
          "execution_count": 37
        }
      ]
    },
    {
      "cell_type": "code",
      "metadata": {
        "id": "C3WjU_tkO4Xi",
        "colab": {
          "base_uri": "https://localhost:8080/"
        },
        "outputId": "b2b36822-d95a-4286-f324-f41d18b90d21"
      },
      "source": [
        "np.array(class_names)[y_classes]"
      ],
      "execution_count": null,
      "outputs": [
        {
          "output_type": "execute_result",
          "data": {
            "text/plain": [
              "array(['Ankle boot', 'Pullover', 'Trouser'], dtype='<U11')"
            ]
          },
          "metadata": {},
          "execution_count": 38
        }
      ]
    },
    {
      "cell_type": "code",
      "metadata": {
        "id": "9UaFBdhiO4Xl",
        "colab": {
          "base_uri": "https://localhost:8080/"
        },
        "outputId": "51e52f15-cf6f-4ee9-f7cf-a037dd7c4e02"
      },
      "source": [
        "y_new = y_test[:3]\n",
        "y_new"
      ],
      "execution_count": null,
      "outputs": [
        {
          "output_type": "execute_result",
          "data": {
            "text/plain": [
              "array([9, 2, 1], dtype=uint8)"
            ]
          },
          "metadata": {},
          "execution_count": 39
        }
      ]
    },
    {
      "cell_type": "code",
      "metadata": {
        "id": "br1cyu5YO4Xn",
        "colab": {
          "base_uri": "https://localhost:8080/",
          "height": 165
        },
        "outputId": "01e5e53e-43e5-4b56-9043-a266cf281813"
      },
      "source": [
        "plt.figure(figsize=(7.2, 2.4))\n",
        "for index, image in enumerate(X_new):\n",
        "    plt.subplot(1, 3, index + 1)\n",
        "    plt.imshow(image, cmap=\"binary\", interpolation=\"nearest\")\n",
        "    plt.axis('off')\n",
        "    plt.title(class_names[y_test[index]], fontsize=12)\n",
        "plt.subplots_adjust(wspace=0.2, hspace=0.5)\n",
        "plt.show()"
      ],
      "execution_count": null,
      "outputs": [
        {
          "output_type": "display_data",
          "data": {
            "text/plain": [
              "<Figure size 518.4x172.8 with 3 Axes>"
            ],
            "image/png": "[encoded data removed]"
          },
          "metadata": {
            "needs_background": "light"
          }
        }
      ]
    },
    {
      "cell_type": "markdown",
      "metadata": {
        "id": "06B8P6jbg0a8"
      },
      "source": [
        "\n",
        "# 4- Building your own NN "
      ]
    },
    {
      "cell_type": "code",
      "metadata": {
        "id": "L7wHx6hIAWvo",
        "colab": {
          "base_uri": "https://localhost:8080/"
        },
        "outputId": "2aca5f47-fea6-4c33-93dd-0d03d240d8a1"
      },
      "source": [
        "import tensorflow as tf\n",
        "from tensorflow import keras\n",
        "fashion_mnist = keras.datasets.mnist\n",
        "(X_train_full, y_train_full), (X_test, y_test) = fashion_mnist.load_data()\n",
        "class_names = [\"0\", \"1\", \"2\", \"3\", \"4\", \"5\", \"6\", \"7\", \"8\", \"9\"]\n",
        "\n",
        "X_valid, X_train = X_train_full[:5000], X_train_full[5000:]\n",
        "y_valid, y_train = y_train_full[:5000], y_train_full[5000:]\n",
        "X_test = X_test\n"
      ],
      "execution_count": null,
      "outputs": [
        {
          "output_type": "stream",
          "name": "stdout",
          "text": [
            "Downloading data from https://storage.googleapis.com/tensorflow/tf-keras-datasets/mnist.npz\n",
            "11493376/11490434 [==============================] - 0s 0us/step\n",
            "11501568/11490434 [==============================] - 0s 0us/step\n"
          ]
        }
      ]
    },
    {
      "cell_type": "code",
      "metadata": {
        "id": "ReFG7NNLnxRO",
        "colab": {
          "base_uri": "https://localhost:8080/"
        },
        "outputId": "ca0ee574-b3cf-4a9a-cae0-9c51b1fd3808"
      },
      "source": [
        "X_train[1].shape"
      ],
      "execution_count": null,
      "outputs": [
        {
          "output_type": "execute_result",
          "data": {
            "text/plain": [
              "(28, 28)"
            ]
          },
          "metadata": {},
          "execution_count": 42
        }
      ]
    },
    {
      "cell_type": "code",
      "metadata": {
        "id": "IpX67MjVBX6Z",
        "colab": {
          "base_uri": "https://localhost:8080/",
          "height": 308
        },
        "outputId": "9977d088-5352-4c43-905d-e4589027e650"
      },
      "source": [
        "n_rows = 4\n",
        "n_cols = 10\n",
        "plt.figure(figsize=(n_cols * 1.2, n_rows * 1.2))\n",
        "for row in range(n_rows):\n",
        "    for col in range(n_cols):\n",
        "        index = n_cols * row + col\n",
        "        plt.subplot(n_rows, n_cols, index + 1)\n",
        "        plt.imshow(X_train[index], cmap=\"binary\", interpolation=\"nearest\")\n",
        "        plt.axis('off')\n",
        "        plt.title(class_names[y_train[index]], fontsize=12)\n",
        "plt.subplots_adjust(wspace=0.2, hspace=0.5)\n",
        "plt.show()"
      ],
      "execution_count": null,
      "outputs": [
        {
          "output_type": "display_data",
          "data": {
            "text/plain": [
              "<Figure size 864x345.6 with 40 Axes>"
            ],
            "image/png": "[encoded data removed]"
          },
          "metadata": {
            "needs_background": "light"
          }
        }
      ]
    },
    {
      "cell_type": "markdown",
      "metadata": {
        "id": "cWaFPVSAA05w"
      },
      "source": [
        "#### **Exercise**: "
      ]
    },
    {
      "cell_type": "markdown",
      "metadata": {
        "id": "e7-wh76RD4pj"
      },
      "source": [
        "Now use the [MNIST digits]( http://yann.lecun.com/exdb/mnist/) dataset to train a NN model.  Make sure to:\n",
        "-\tPerform any data preprocessing if necessary\n",
        "-\tMake sure your model does not take more than 5mins to train (using CPU) and print the training time (use `tic = time.process_time()` `toc = time.process_time()`    )\n",
        "-\tMake sure your results are reproducible \n",
        "-\tMake sure to plot the Loss and performance metric of your model\n"
      ]
    },
    {
      "cell_type": "code",
      "metadata": {
        "id": "vKC5NtcOCs4n",
        "colab": {
          "base_uri": "https://localhost:8080/",
          "height": 1000
        },
        "outputId": "d4073750-f894-4191-c607-1aee705b8307"
      },
      "source": [
        "###===================================== START CODE HERE ========================### (≈ 50 lines of code)\n",
        "\n",
        "\n",
        "\n",
        "\n",
        "\n",
        "\n",
        "\n",
        "\n",
        "\n",
        "\n",
        "\n",
        "\n",
        "\n",
        "\n",
        "\n",
        "\n",
        "\n",
        "\n",
        "\n",
        "\n",
        "\n",
        "\n",
        "###==== END CODE HERE ====###"
      ],
      "execution_count": null,
      "outputs": [
        {
          "output_type": "stream",
          "name": "stdout",
          "text": [
            "Epoch 1/30\n",
            "1100/1100 [==============================] - 5s 4ms/step - loss: 0.7848 - accuracy: 0.7943 - val_loss: 0.3759 - val_accuracy: 0.9030\n",
            "Epoch 2/30\n",
            "1100/1100 [==============================] - 4s 4ms/step - loss: 0.3450 - accuracy: 0.9031 - val_loss: 0.2869 - val_accuracy: 0.9212\n",
            "Epoch 3/30\n",
            "1100/1100 [==============================] - 4s 4ms/step - loss: 0.2854 - accuracy: 0.9182 - val_loss: 0.2471 - val_accuracy: 0.9310\n",
            "Epoch 4/30\n",
            "1100/1100 [==============================] - 5s 4ms/step - loss: 0.2505 - accuracy: 0.9284 - val_loss: 0.2230 - val_accuracy: 0.9382\n",
            "Epoch 5/30\n",
            "1100/1100 [==============================] - 4s 4ms/step - loss: 0.2249 - accuracy: 0.9357 - val_loss: 0.2030 - val_accuracy: 0.9424\n",
            "Epoch 6/30\n",
            "1100/1100 [==============================] - 4s 4ms/step - loss: 0.2042 - accuracy: 0.9420 - val_loss: 0.1877 - val_accuracy: 0.9476\n",
            "Epoch 7/30\n",
            "1100/1100 [==============================] - 5s 4ms/step - loss: 0.1868 - accuracy: 0.9468 - val_loss: 0.1721 - val_accuracy: 0.9510\n",
            "Epoch 8/30\n",
            "1100/1100 [==============================] - 5s 4ms/step - loss: 0.1720 - accuracy: 0.9508 - val_loss: 0.1636 - val_accuracy: 0.9542\n",
            "Epoch 9/30\n",
            "1100/1100 [==============================] - 5s 4ms/step - loss: 0.1589 - accuracy: 0.9547 - val_loss: 0.1523 - val_accuracy: 0.9590\n",
            "Epoch 10/30\n",
            "1100/1100 [==============================] - 5s 4ms/step - loss: 0.1479 - accuracy: 0.9582 - val_loss: 0.1425 - val_accuracy: 0.9590\n",
            "Epoch 11/30\n",
            "1100/1100 [==============================] - 4s 4ms/step - loss: 0.1379 - accuracy: 0.9607 - val_loss: 0.1359 - val_accuracy: 0.9622\n",
            "Epoch 12/30\n",
            "1100/1100 [==============================] - 5s 4ms/step - loss: 0.1292 - accuracy: 0.9637 - val_loss: 0.1297 - val_accuracy: 0.9626\n",
            "Epoch 13/30\n",
            "1100/1100 [==============================] - 5s 4ms/step - loss: 0.1215 - accuracy: 0.9655 - val_loss: 0.1233 - val_accuracy: 0.9662\n",
            "Epoch 14/30\n",
            "1100/1100 [==============================] - 5s 4ms/step - loss: 0.1144 - accuracy: 0.9679 - val_loss: 0.1221 - val_accuracy: 0.9648\n",
            "Epoch 15/30\n",
            "1100/1100 [==============================] - 5s 4ms/step - loss: 0.1083 - accuracy: 0.9697 - val_loss: 0.1132 - val_accuracy: 0.9684\n",
            "Epoch 16/30\n",
            "1100/1100 [==============================] - 5s 4ms/step - loss: 0.1025 - accuracy: 0.9713 - val_loss: 0.1124 - val_accuracy: 0.9688\n",
            "Epoch 17/30\n",
            "1100/1100 [==============================] - 4s 4ms/step - loss: 0.0975 - accuracy: 0.9726 - val_loss: 0.1071 - val_accuracy: 0.9712\n",
            "Epoch 18/30\n",
            "1100/1100 [==============================] - 4s 4ms/step - loss: 0.0926 - accuracy: 0.9742 - val_loss: 0.1049 - val_accuracy: 0.9712\n",
            "Epoch 19/30\n",
            "1100/1100 [==============================] - 4s 4ms/step - loss: 0.0883 - accuracy: 0.9752 - val_loss: 0.1019 - val_accuracy: 0.9710\n",
            "Epoch 20/30\n",
            "1100/1100 [==============================] - 5s 4ms/step - loss: 0.0842 - accuracy: 0.9769 - val_loss: 0.1020 - val_accuracy: 0.9706\n",
            "Epoch 21/30\n",
            "1100/1100 [==============================] - 4s 4ms/step - loss: 0.0805 - accuracy: 0.9777 - val_loss: 0.0959 - val_accuracy: 0.9726\n",
            "Epoch 22/30\n",
            "1100/1100 [==============================] - 4s 4ms/step - loss: 0.0768 - accuracy: 0.9789 - val_loss: 0.0944 - val_accuracy: 0.9740\n",
            "Epoch 23/30\n",
            "1100/1100 [==============================] - 5s 4ms/step - loss: 0.0735 - accuracy: 0.9798 - val_loss: 0.0939 - val_accuracy: 0.9736\n",
            "Epoch 24/30\n",
            "1100/1100 [==============================] - 4s 4ms/step - loss: 0.0703 - accuracy: 0.9805 - val_loss: 0.0912 - val_accuracy: 0.9742\n",
            "Epoch 25/30\n",
            "1100/1100 [==============================] - 4s 4ms/step - loss: 0.0675 - accuracy: 0.9816 - val_loss: 0.0886 - val_accuracy: 0.9740\n",
            "Epoch 26/30\n",
            "1100/1100 [==============================] - 4s 4ms/step - loss: 0.0645 - accuracy: 0.9821 - val_loss: 0.0860 - val_accuracy: 0.9748\n",
            "Epoch 27/30\n",
            "1100/1100 [==============================] - 4s 4ms/step - loss: 0.0622 - accuracy: 0.9829 - val_loss: 0.0843 - val_accuracy: 0.9766\n",
            "Epoch 28/30\n",
            "1100/1100 [==============================] - 4s 4ms/step - loss: 0.0598 - accuracy: 0.9836 - val_loss: 0.0849 - val_accuracy: 0.9744\n",
            "Epoch 29/30\n",
            "1100/1100 [==============================] - 4s 4ms/step - loss: 0.0573 - accuracy: 0.9848 - val_loss: 0.0825 - val_accuracy: 0.9752\n",
            "Epoch 30/30\n",
            "1100/1100 [==============================] - 4s 4ms/step - loss: 0.0552 - accuracy: 0.9850 - val_loss: 0.0833 - val_accuracy: 0.9752\n",
            "Time to train the model:164.65477961199997s\n"
          ]
        },
        {
          "output_type": "display_data",
          "data": {
            "text/plain": [
              "<Figure size 576x360 with 1 Axes>"
            ],
            "image/png": "[encoded data removed]"
          },
          "metadata": {
            "needs_background": "light"
          }
        }
      ]
    },
    {
      "cell_type": "markdown",
      "metadata": {
        "id": "BQOiBJe7CtXe"
      },
      "source": [
        "#### 4.1- Model’s Performance"
      ]
    },
    {
      "cell_type": "code",
      "metadata": {
        "id": "xwJblbg4Cn1y",
        "colab": {
          "base_uri": "https://localhost:8080/"
        },
        "outputId": "1ab1a801-6e8e-4495-ae6d-dc1766966b03"
      },
      "source": [
        "model.evaluate(X_test, y_test)"
      ],
      "execution_count": null,
      "outputs": [
        {
          "output_type": "stream",
          "name": "stdout",
          "text": [
            "313/313 [==============================] - 1s 3ms/step - loss: 0.0851 - accuracy: 0.9736\n"
          ]
        },
        {
          "output_type": "execute_result",
          "data": {
            "text/plain": [
              "[0.08505477011203766, 0.9735999703407288]"
            ]
          },
          "metadata": {},
          "execution_count": 45
        }
      ]
    },
    {
      "cell_type": "code",
      "metadata": {
        "id": "R8U3DpZErAxU",
        "colab": {
          "base_uri": "https://localhost:8080/"
        },
        "outputId": "be52afcf-0bb8-42b0-eb7e-e95ad20c87fe"
      },
      "source": [
        "y_proba"
      ],
      "execution_count": null,
      "outputs": [
        {
          "output_type": "execute_result",
          "data": {
            "text/plain": [
              "array([[1.2024585e-05, 1.3292212e-06, 8.7710163e-05, 2.0281652e-05,\n",
              "        9.2927294e-06, 6.0677752e-02, 1.3546888e-05, 5.6493789e-02,\n",
              "        2.2076224e-03, 8.8047659e-01],\n",
              "       [5.5132496e-06, 1.2136178e-07, 9.7969645e-01, 7.0025386e-08,\n",
              "        1.9695986e-02, 3.4723504e-12, 6.0177129e-04, 8.4944096e-13,\n",
              "        5.3762570e-08, 1.8434317e-11],\n",
              "       [9.6298254e-06, 9.9998701e-01, 2.2044864e-07, 1.5924840e-06,\n",
              "        1.4632894e-06, 4.6063830e-12, 4.6032365e-09, 6.2814012e-12,\n",
              "        6.4501258e-08, 5.0319669e-11]], dtype=float32)"
            ]
          },
          "metadata": {},
          "execution_count": 46
        }
      ]
    },
    {
      "cell_type": "code",
      "metadata": {
        "id": "YKN0OrTyC02I",
        "colab": {
          "base_uri": "https://localhost:8080/",
          "height": 165
        },
        "outputId": "7a6af5ec-56af-4b8c-d64a-5fc3c8da84b8"
      },
      "source": [
        "X_new = X_test[:3]\n",
        "y_proba = model.predict(X_new)\n",
        "\n",
        "\n",
        "\n",
        "y_prob = model.predict(X_new) \n",
        "y_pred = y_prob.argmax(axis=-1)\n",
        "plt.figure(figsize=(7.2, 2.4))\n",
        "\n",
        "y_new = y_test[:3 ]\n",
        "\n",
        "for index, image in enumerate(X_new):\n",
        "    plt.subplot(1, 3, index + 1)\n",
        "    plt.imshow(image, cmap=\"binary\", interpolation=\"nearest\")\n",
        "    plt.axis('off')\n",
        "    plt.title(class_names[y_pred[index]], fontsize=12)\n",
        "plt.subplots_adjust(wspace=0.2, hspace=0.5)\n",
        "plt.show()"
      ],
      "execution_count": null,
      "outputs": [
        {
          "output_type": "display_data",
          "data": {
            "text/plain": [
              "<Figure size 518.4x172.8 with 3 Axes>"
            ],
            "image/png": "[encoded data removed]"
          },
          "metadata": {
            "needs_background": "light"
          }
        }
      ]
    },
    {
      "cell_type": "markdown",
      "metadata": {
        "id": "Jy5f7p4SGizB"
      },
      "source": [
        "###### **DO NOT DELETE NOR MODIFY THESE CODE CELLS**\n"
      ]
    },
    {
      "cell_type": "code",
      "metadata": {
        "id": "x5_oXq-aGiij",
        "colab": {
          "base_uri": "https://localhost:8080/"
        },
        "outputId": "cc4cadaa-4d18-42a2-fa6e-48a653ea4936"
      },
      "source": [
        "\n",
        "# # ###DO NOT DELETE NOR MODIFY THIS CODE CELL####\n",
        "!git clone https://github.com/lopezbec/Intro_toNN_Keras\n",
        "%cd Intro_toNN_Keras\n",
        "from GRADING import GRADING\n",
        "\n",
        "try:\n",
        "    per_clf\n",
        "except:\n",
        "    per_clf=None\n",
        "try:\n",
        "    tanh\n",
        "except:\n",
        "    tanh=None\n",
        "try:\n",
        "    ReLu\n",
        "except:\n",
        "    ReLu=None\n",
        "try:\n",
        "    LeakyRelu\n",
        "except:\n",
        "    LeakyRelu=None\n",
        "try:\n",
        "    derivative\n",
        "except:\n",
        "    derivative=None\n",
        "try:\n",
        "    X_train\n",
        "except:\n",
        "    X_train=None\n",
        "\n",
        "GRADING(per_clf,tanh,ReLu,LeakyRelu,derivative,X_train)\n",
        "\n",
        "\n",
        "\n"
      ],
      "execution_count": null,
      "outputs": [
        {
          "output_type": "stream",
          "name": "stdout",
          "text": [
            "Cloning into 'Intro_toNN_Keras'...\n",
            "remote: Enumerating objects: 6, done.\u001b[K\n",
            "remote: Counting objects: 100% (6/6), done.\u001b[K\n",
            "remote: Compressing objects: 100% (4/4), done.\u001b[K\n",
            "remote: Total 6 (delta 1), reused 2 (delta 0), pack-reused 0\u001b[K\n",
            "Unpacking objects: 100% (6/6), done.\n",
            "/content/Intro_toNN_Keras\n",
            "Peceptron : True\n",
            "tanh : True\n",
            "ReLu : True\n",
            "LeakyRelu : True\n",
            "derivative : True\n",
            "X_train_prepro : True\n",
            "LOOK AT PLOT & TIME <300s| 5min\n"
          ]
        }
      ]
    }
  ]
}